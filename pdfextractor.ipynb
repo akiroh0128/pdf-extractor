{
 "cells": [
  {
   "cell_type": "code",
   "execution_count": 9,
   "id": "2cd40ebb",
   "metadata": {},
   "outputs": [
    {
     "name": "stdout",
     "output_type": "stream",
     "text": [
      "Requirement already satisfied: pymupdf in c:\\users\\rohith\\anaconda3\\lib\\site-packages (1.24.5)\n",
      "Requirement already satisfied: PyMuPDFb==1.24.3 in c:\\users\\rohith\\anaconda3\\lib\\site-packages (from pymupdf) (1.24.3)\n"
     ]
    }
   ],
   "source": [
    "!pip install pymupdf"
   ]
  },
  {
   "cell_type": "code",
   "execution_count": 32,
   "id": "7995b282",
   "metadata": {},
   "outputs": [
    {
     "name": "stdout",
     "output_type": "stream",
     "text": [
      "Extracted 167 articles and saved to C:\\Users\\Rohith\\Downloads\\articles.csv\n"
     ]
    }
   ],
   "source": [
    "import fitz  \n",
    "import pandas as pd\n",
    "import re\n",
    "\n",
    "def extract_text_from_pdf(pdf_path):\n",
    "    # Open the PDF file\n",
    "    pdf_document = fitz.open(pdf_path)\n",
    "    articles = []\n",
    "\n",
    "    article_number_pattern = re.compile(r'^\\d+\\.\\d+\\.')  # Pattern to match article numbers like 1.1, 1.2, etc.\n",
    "    current_article = {\"s_no\": \"\", \"article_title\": \"\", \"article_body\": \"\"}\n",
    "    collecting_body = False\n",
    "\n",
    "    for page_num in range(6,len(pdf_document)):\n",
    "        page = pdf_document[page_num]\n",
    "        text = page.get_text(\"text\").encode(\"utf-8-sig\").decode(\"utf-8-sig\")\n",
    "        lines = text.splitlines()\n",
    "\n",
    "        for line in lines:\n",
    "            line = line.strip()\n",
    "            if article_number_pattern.match(line):\n",
    "                if collecting_body and current_article[\"s_no\"]:  # Save the previous article before starting a new one\n",
    "                    articles.append(current_article)\n",
    "\n",
    "                # Extract article number and title\n",
    "                parts = line.split('.', 2)\n",
    "                current_article = {\"s_no\": f\"{parts[0]}.{parts[1]}.\", \"article_title\": parts[2].strip('\" '), \"article_body\": \"\"}\n",
    "                collecting_body = True\n",
    "            elif collecting_body:\n",
    "                if current_article[\"article_body\"]:\n",
    "                    current_article[\"article_body\"] += \"\\n\" + line\n",
    "                else:\n",
    "                    current_article[\"article_body\"] = line\n",
    "\n",
    "    if current_article[\"s_no\"]:  # Save the last article\n",
    "        articles.append(current_article)\n",
    "\n",
    "    return articles\n",
    "\n",
    "def save_to_csv(articles, csv_path):\n",
    "    for article in articles:\n",
    "        article[\"article_title\"] = f'\"{article[\"article_title\"]}\"'\n",
    "        article[\"article_body\"] = f'\"{article[\"article_body\"]}\"'\n",
    "    df = pd.DataFrame(articles)\n",
    "    df.to_csv(csv_path, index=False)\n",
    "\n",
    "if __name__ == \"__main__\":\n",
    "    pdf_path = r\"C:\\Users\\Rohith\\Downloads\\VisionIAS Monthly Current Affairs January 2024 January 2024.pdf\"  # Update this to the path of your PDF file\n",
    "    csv_path = r\"C:\\Users\\Rohith\\Downloads\\articles.csv\"  # Update this to the desired CSV file path\n",
    "\n",
    "    articles = extract_text_from_pdf(pdf_path)\n",
    "    save_to_csv(articles, csv_path)\n",
    "\n",
    "    print(f\"Extracted {len(articles)} articles and saved to {csv_path}\")"
   ]
  },
  {
   "cell_type": "code",
   "execution_count": null,
   "id": "bbd4a04d",
   "metadata": {},
   "outputs": [],
   "source": []
  }
 ],
 "metadata": {
  "kernelspec": {
   "display_name": "Python 3 (ipykernel)",
   "language": "python",
   "name": "python3"
  },
  "language_info": {
   "codemirror_mode": {
    "name": "ipython",
    "version": 3
   },
   "file_extension": ".py",
   "mimetype": "text/x-python",
   "name": "python",
   "nbconvert_exporter": "python",
   "pygments_lexer": "ipython3",
   "version": "3.9.12"
  }
 },
 "nbformat": 4,
 "nbformat_minor": 5
}
